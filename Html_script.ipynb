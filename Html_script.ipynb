{
 "cells": [
  {
   "cell_type": "code",
   "execution_count": 1,
   "id": "moving-vector",
   "metadata": {},
   "outputs": [
    {
     "name": "stdout",
     "output_type": "stream",
     "text": [
      "Time taken 152.0358784198761\n"
     ]
    }
   ],
   "source": [
    "import os\n",
    "import time\n",
    "import requests\n",
    "import sys\n",
    "\n",
    "\n",
    "def retrieve_html():\n",
    "    for year in range(2013,2019):\n",
    "        for month in range(1,13):\n",
    "            if(month<10):\n",
    "                url='http://en.tutiempo.net/climate/0{}-{}/ws-421820.html'.format(month\n",
    "                                                                          ,year)\n",
    "            else:\n",
    "                url='http://en.tutiempo.net/climate/{}-{}/ws-421820.html'.format(month\n",
    "                                                                          ,year)\n",
    "            texts=requests.get(url)\n",
    "            text_utf=texts.text.encode('utf=8')\n",
    "            \n",
    "            if not os.path.exists(\"Data/Html_Data/{}\".format(year)):\n",
    "                os.makedirs(\"Data/Html_Data/{}\".format(year))\n",
    "            with open(\"Data/Html_Data/{}/{}.html\".format(year,month),\"wb\") as output:\n",
    "                output.write(text_utf)\n",
    "            \n",
    "        sys.stdout.flush()\n",
    "        \n",
    "if __name__==\"__main__\":\n",
    "    start_time=time.time()\n",
    "    retrieve_html()\n",
    "    stop_time=time.time()\n",
    "    print(\"Time taken {}\".format(stop_time-start_time))\n",
    "        "
   ]
  },
  {
   "cell_type": "code",
   "execution_count": null,
   "id": "annual-payment",
   "metadata": {},
   "outputs": [],
   "source": []
  }
 ],
 "metadata": {
  "kernelspec": {
   "display_name": "Python 3",
   "language": "python",
   "name": "python3"
  },
  "language_info": {
   "codemirror_mode": {
    "name": "ipython",
    "version": 3
   },
   "file_extension": ".py",
   "mimetype": "text/x-python",
   "name": "python",
   "nbconvert_exporter": "python",
   "pygments_lexer": "ipython3",
   "version": "3.9.2"
  }
 },
 "nbformat": 4,
 "nbformat_minor": 5
}
